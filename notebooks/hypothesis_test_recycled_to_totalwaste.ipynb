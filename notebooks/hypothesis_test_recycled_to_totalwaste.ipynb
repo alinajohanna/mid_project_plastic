{
 "cells": [
  {
   "cell_type": "markdown",
   "id": "404ef960-a1db-4948-a863-6f2814e59f53",
   "metadata": {},
   "source": [
    "# Hypothesis Testing"
   ]
  },
  {
   "cell_type": "code",
   "execution_count": null,
   "id": "56dba91f-7a9b-427c-bd38-c2879d42d7fb",
   "metadata": {},
   "outputs": [],
   "source": [
    "import pandas as pd\n",
    "import numpy as np\n",
    "import matplotlib.pyplot as plt\n",
    "import seaborn as sns\n",
    "import scipy"
   ]
  },
  {
   "cell_type": "markdown",
   "id": "2c92c89e-39cd-46dd-be4b-6787f877f88b",
   "metadata": {},
   "source": [
    "## Hypothesis Testing on recycled waste"
   ]
  },
  {
   "cell_type": "code",
   "execution_count": null,
   "id": "9e086627-4e30-40aa-9a49-3b38b9c7b595",
   "metadata": {},
   "outputs": [],
   "source": [
    "df = pd.read_csv('../data/cleaned_data/cleaned_data_final.csv')\n",
    "df.drop(columns='Unnamed: 0', inplace=True)\n",
    "df.head()"
   ]
  },
  {
   "cell_type": "code",
   "execution_count": null,
   "id": "055f3516-58c9-4faf-818e-3f34b068d44e",
   "metadata": {},
   "outputs": [],
   "source": [
    "df.dropna(inplace=True)"
   ]
  },
  {
   "cell_type": "code",
   "execution_count": null,
   "id": "b99d4bf0-b043-42c5-a847-393b28cba1b3",
   "metadata": {},
   "outputs": [],
   "source": [
    "df.isna().sum()"
   ]
  },
  {
   "cell_type": "code",
   "execution_count": null,
   "id": "986b235a-5355-4218-8864-f938cb4b5898",
   "metadata": {},
   "outputs": [],
   "source": [
    "df_grouped = df.groupby('location').agg({'total_waste':'sum', 'recycled_waste':'sum'}).reset_index()\n",
    "df_grouped"
   ]
  },
  {
   "cell_type": "code",
   "execution_count": null,
   "id": "6b755fbb-e069-4d93-8563-fd82be78c581",
   "metadata": {},
   "outputs": [],
   "source": [
    "df['recyc_waste_ratio'] = df['recycled_waste']/ df['total_waste']"
   ]
  },
  {
   "cell_type": "code",
   "execution_count": null,
   "id": "d2797b8a-6d4f-4e9c-8282-ff680bbdc167",
   "metadata": {},
   "outputs": [],
   "source": [
    "fig, ax = plt.subplots(1,2, figsize=(15,5))\n",
    "sns.scatterplot(df, y='recycled_waste', x='total_waste', ax=ax[0])\n",
    "plt.xlabel('Total Waste')\n",
    "plt.ylabel('Total Recycled')\n",
    "plt.title('Scatterplot Total Recycled to Total Waste')\n",
    "plt.tight_layout()\n",
    "\n",
    "sns.scatterplot(df, y='recyc_waste_ratio', x='total_waste', ax=ax[1])\n",
    "plt.xlabel('Total Waste')\n",
    "plt.ylabel('Total Recycled')\n",
    "plt.title('Scatterplot Total Recycled to Total Waste')\n",
    "plt.tight_layout()\n",
    "plt.show()"
   ]
  },
  {
   "cell_type": "code",
   "execution_count": null,
   "id": "000b7974-3e43-4fac-a353-d482d0601c84",
   "metadata": {},
   "outputs": [],
   "source": [
    "fig, ax = plt.subplots(1,2, figsize=(15,5))\n",
    "sns.boxplot(df, y='total_waste', ax=ax[0])\n",
    "sns.boxplot(df, y='recycled_waste',ax=ax[1])\n",
    "plt.show()"
   ]
  },
  {
   "cell_type": "code",
   "execution_count": null,
   "id": "e7a9a5ed-f665-409f-bae0-e0d5006ef9d9",
   "metadata": {},
   "outputs": [],
   "source": [
    "corr_matrix = df[['recycled_waste','total_waste', 'recyc_waste_ratio']].corr()\n",
    "corr_matrix"
   ]
  },
  {
   "cell_type": "code",
   "execution_count": null,
   "id": "671310f7-8374-4912-ae6a-cbda9a2e4a5b",
   "metadata": {},
   "outputs": [],
   "source": [
    "#If skewness is less than -1 or greater than 1, the distribution is highly skewed and needs transforming.\n",
    "df[['recycled_waste','total_waste', 'recyc_waste_ratio']].skew()"
   ]
  },
  {
   "cell_type": "code",
   "execution_count": null,
   "id": "bc833275-96ed-40ea-ae32-0641588ff18e",
   "metadata": {},
   "outputs": [],
   "source": [
    "import pickle\n",
    "from sklearn.preprocessing import PowerTransformer\n",
    "\n",
    "df2 = df[['recycled_waste','total_waste', 'recyc_waste_ratio']]\n",
    "\n",
    "transformer = PowerTransformer(method='yeo-johnson')\n",
    "\n",
    "transformed = transformer.fit_transform(df2)\n",
    "df_transformed = pd.DataFrame(transformed, columns=df2.columns)\n",
    "\n",
    "path = \"./transformers/\"\n",
    "file_name = \"transf_recycled_total_waste.pkl\"\n",
    "\n",
    "with open(path + file_name, \"wb\") as file:\n",
    "    pickle.dump(transformer, file)"
   ]
  },
  {
   "cell_type": "code",
   "execution_count": null,
   "id": "ad4ec473-e57f-4a12-99b9-4d4ba29cd0dd",
   "metadata": {},
   "outputs": [],
   "source": [
    "df_transformed.describe()"
   ]
  },
  {
   "cell_type": "code",
   "execution_count": null,
   "id": "27e87686-ff77-4c85-9481-aee27845245e",
   "metadata": {},
   "outputs": [],
   "source": [
    "fig, ax = plt.subplots(1,2, figsize=(15,5))\n",
    "sns.scatterplot(df_transformed, y='recycled_waste', x='total_waste', ax=ax[0])\n",
    "plt.xlabel('Total Waste')\n",
    "plt.ylabel('Total Recycled')\n",
    "plt.title('Scatterplot Total Recycled to Total Waste')\n",
    "plt.tight_layout()\n",
    "\n",
    "sns.scatterplot(df_transformed, y='recyc_waste_ratio', x='total_waste', ax=ax[1])\n",
    "plt.xlabel('Total Waste')\n",
    "plt.ylabel('Total Recycled')\n",
    "plt.title('Scatterplot Total Recycled to Total Waste')\n",
    "plt.tight_layout()\n",
    "plt.show()"
   ]
  },
  {
   "cell_type": "code",
   "execution_count": null,
   "id": "8a0480e9-9a9f-4de5-b84f-1678d08a2861",
   "metadata": {},
   "outputs": [],
   "source": [
    "fig, ax = plt.subplots(1,2, figsize=(15,5))\n",
    "sns.boxplot(df_transformed, y='total_waste', ax=ax[0])\n",
    "sns.boxplot(df_transformed, y='recycled_waste',ax=ax[1])\n",
    "plt.show()"
   ]
  },
  {
   "cell_type": "markdown",
   "id": "5e5a6142-f679-4933-9a1c-109961886beb",
   "metadata": {},
   "source": [
    "### Hypothesis Test if recycled waste is dependent on total waste\n",
    "\n",
    "H0: Recycled waste is not dependent on total waste\n"
   ]
  },
  {
   "cell_type": "code",
   "execution_count": null,
   "id": "7fd2db50-2fa2-41c6-9522-ca0390fe0d95",
   "metadata": {},
   "outputs": [],
   "source": [
    "from sklearn.model_selection import train_test_split\n",
    "from sklearn.linear_model import LinearRegression\n",
    "from sklearn import metrics\n",
    "\n",
    "X = df_transformed[['total_waste']]\n",
    "y = df_transformed['recyc_waste_ratio']\n",
    "\n",
    "X_train, X_test, y_train, y_test = train_test_split(X, y, test_size=0.2, random_state=42)\n",
    "\n",
    "model = LinearRegression()\n",
    "model.fit(X_train, y_train)\n",
    "\n",
    "path = \"./models/\"\n",
    "file_name = \"lr_recycled_waste_total_waste.pkl\"\n",
    "\n",
    "with open(path + file_name, \"wb\") as file:\n",
    "    pickle.dump(model, file)"
   ]
  },
  {
   "cell_type": "code",
   "execution_count": null,
   "id": "c9462ae0-878e-44d7-866c-f6b44aae23b6",
   "metadata": {},
   "outputs": [],
   "source": [
    "#Statistical Testing:"
   ]
  },
  {
   "cell_type": "code",
   "execution_count": null,
   "id": "91820106-b17a-4822-b115-9c02438705b4",
   "metadata": {},
   "outputs": [],
   "source": [
    "print(f'Coefficient for total_waste: {model.coef_[0]}')"
   ]
  },
  {
   "cell_type": "code",
   "execution_count": null,
   "id": "15f33361-6bb1-431e-bcb3-99691e2966fe",
   "metadata": {},
   "outputs": [],
   "source": [
    "from scipy.stats import linregress\n",
    "\n",
    "slope, intercept, r_value, p_value, std_err = linregress(X_train['total_waste'], y_train)\n",
    "print(f'P-value: {p_value}')"
   ]
  },
  {
   "cell_type": "code",
   "execution_count": null,
   "id": "b1145fcf-1b9a-4f2b-bbf6-7305c434c836",
   "metadata": {},
   "outputs": [],
   "source": [
    "print(model.coef_[0])\n",
    "p_value<model.coef_[0]"
   ]
  },
  {
   "cell_type": "code",
   "execution_count": null,
   "id": "553c9c11-d1c1-4e2d-bc8b-2bb9f0cc48ce",
   "metadata": {},
   "outputs": [],
   "source": [
    "# Testing if the H0 needs to be rejected and determine if the overall model is statistically significant\n",
    "if p_value<0.05:\n",
    "    print(\"Reject H0\")\n",
    "else: print(\"Don't reject H0\")"
   ]
  },
  {
   "cell_type": "markdown",
   "id": "1a1221f9-3f54-4596-ba20-ac7888a5d6fd",
   "metadata": {},
   "source": [
    "The coefficient of 0.00046 for 'total_waste' means that for every one-unit increase in the 'total_waste' variable, the predicted value of the response variable (recycling) increases by approximately 0.2887 units. \n",
    "\n",
    "The p-value being very close to zero suggests that this relationship is statistically significant, supporting the idea that higher total waste corresponds to increased recycling.\n",
    "\n",
    "The significance level of 0.05 indicates strong evidence against the null hypothesis. This means the null hypothesis is rejected in favor of the alternative hypothesis. Essentially, it supports the claim that there is a relationship between the 'total_waste' variable and the recycling."
   ]
  },
  {
   "cell_type": "markdown",
   "id": "66099b25-2f1d-4ef3-b382-e7f1a45bc2ee",
   "metadata": {},
   "source": [
    "### Hypothesis testing if the recycled amount varies across OECD and non OECD countries"
   ]
  },
  {
   "cell_type": "markdown",
   "id": "0b4e978e-0843-4da0-8d4c-b5f5689d1c0b",
   "metadata": {},
   "source": [
    "HO: Recycled-waste-ratio is not significantly higher in OECD countries in comparison to non OECD countries."
   ]
  },
  {
   "cell_type": "code",
   "execution_count": null,
   "id": "b2b58f5f-71d8-4b5a-997f-4b830250db0b",
   "metadata": {},
   "outputs": [],
   "source": [
    "no_oecd_member = ['China', 'India', 'Latin America', 'Middle East & North Africa', 'Other Africa', 'Other EU', 'Other Eurasia', 'Other non-OECD Asia']"
   ]
  },
  {
   "cell_type": "code",
   "execution_count": null,
   "id": "10f0500d-1b18-47aa-9b21-535baa751d08",
   "metadata": {},
   "outputs": [],
   "source": [
    "# Function to map locations to OECD or non-OECD\n",
    "def assign_oecd_status(location):\n",
    "    if location in no_oecd_member:\n",
    "        return 'no OECD'\n",
    "    else:\n",
    "        return 'OECD'\n",
    "\n",
    "# Create a new column 'OECD_Status' based on the location column\n",
    "df['oecd_status'] = df['location'].apply(lambda x: assign_oecd_status(x))"
   ]
  },
  {
   "cell_type": "code",
   "execution_count": null,
   "id": "75f969fe-bcf3-4774-b5a6-33c0769b0680",
   "metadata": {},
   "outputs": [],
   "source": [
    "df_oecd = df[(df['oecd_status']=='OECD')]\n",
    "df_non_oecd = df[(df['oecd_status']!='OECD')]\n",
    "\n",
    "# no transformation needed here. skew was in range\n",
    "df_oecd = df_oecd['recyc_waste_ratio']\n",
    "df_non_oecd = df_non_oecd['recyc_waste_ratio']"
   ]
  },
  {
   "cell_type": "code",
   "execution_count": null,
   "id": "7112c766-df64-486a-a11f-b4e0ddc9537f",
   "metadata": {},
   "outputs": [],
   "source": [
    "df_oecd.describe()"
   ]
  },
  {
   "cell_type": "code",
   "execution_count": null,
   "id": "842d6c4a-a02e-47ba-87db-bf9f886764f2",
   "metadata": {},
   "outputs": [],
   "source": [
    "df_non_oecd.describe()"
   ]
  },
  {
   "cell_type": "code",
   "execution_count": null,
   "id": "3b7097a5-456c-4f9a-bd5a-6f4e930723be",
   "metadata": {},
   "outputs": [],
   "source": [
    "from scipy import stats\n",
    "\n",
    "# Assuming you have your data in two arrays: oecd_data and non_oecd_data\n",
    "# Perform an independent t-test\n",
    "t_stat, p_value = stats.ttest_ind(df_oecd, df_non_oecd, equal_var=False)\n",
    "\n",
    "with open('t_test_results.pkl', 'wb') as f:\n",
    "    pickle.dump({'t_stat': t_stat, 'p_value': p_value}, f)\n",
    "\n",
    "# Analyze the p-value\n",
    "alpha = 0.05  # significance level\n",
    "print(p_value)\n",
    "if p_value < alpha:\n",
    "    print(\"There is a statistically significant difference between OECD and non-OECD countries.\")\n",
    "else:\n",
    "    print(\"There is no statistically significant difference.\")"
   ]
  },
  {
   "cell_type": "markdown",
   "id": "4f0bf862-4b9b-40e5-b4dd-b61c82d7cec4",
   "metadata": {},
   "source": [
    "With a p-value of 0.7518, which is higher than the typical significance level of 0.05, there isn't sufficient evidence to reject the null hypothesis. Therefore, based on this analysis, the recycled-waste-ratio is not significantly higher in OECD countries compared to non-OECD countries."
   ]
  },
  {
   "cell_type": "markdown",
   "id": "d21965bb-38f7-4c59-8461-2b0976c0f618",
   "metadata": {},
   "source": [
    "## Hypothesis Testing of GDP influence on Plastic Waste Generation"
   ]
  },
  {
   "cell_type": "markdown",
   "id": "a3fd4287-074a-4c2a-9b2a-9d6d749b4e96",
   "metadata": {},
   "source": [
    "HYPOTHESIS TESTING: linear regression analysis\n",
    "\n",
    "Hypothesis H0: plastic waste per capita is not dependent on GDP per Capita."
   ]
  },
  {
   "cell_type": "code",
   "execution_count": null,
   "id": "9cd17d71-4e27-4f08-b3b2-f99666fb0b92",
   "metadata": {},
   "outputs": [],
   "source": [
    "gdp_df_2010 = pd.read_csv('../data/cleaned_data/2010_gdp_pop_final.csv')"
   ]
  },
  {
   "cell_type": "code",
   "execution_count": null,
   "id": "8a707871-317a-4aaa-aa14-3e532de920c1",
   "metadata": {},
   "outputs": [],
   "source": [
    "correlation = gdp_df_2010['gdp_per_capita'].corr(gdp_df_2010['per_capita_plastic_waste'])\n",
    "correlation"
   ]
  },
  {
   "cell_type": "markdown",
   "id": "8a9b9bc2-0b60-496c-bf4b-4020c9c1386e",
   "metadata": {},
   "source": [
    "A correlation of 0.37 suggests a moderate positive relationship.\n",
    "The correlation is positive --> indicates that as the values of one variable increase the values of the other variable tend to increase as well"
   ]
  },
  {
   "cell_type": "code",
   "execution_count": null,
   "id": "c08f925d-3765-453f-93a1-fbe838d56190",
   "metadata": {},
   "outputs": [],
   "source": [
    "correlation = gdp_df_2010['population'].corr(gdp_df_2010['per_capita_plastic_waste'])\n",
    "correlation"
   ]
  },
  {
   "cell_type": "markdown",
   "id": "5b3301b8-4c0f-431e-89ce-c9f5bd77a147",
   "metadata": {},
   "source": [
    "Relatively weak negative correlation, indicating that the relationship between these two variables is not very strong between the population size and per capita plastic waste."
   ]
  },
  {
   "cell_type": "code",
   "execution_count": null,
   "id": "473554c9-fefd-4ad4-b18a-598061ec7c18",
   "metadata": {},
   "outputs": [],
   "source": [
    "plt.scatter(gdp_df_2010['gdp_per_capita'], gdp_df_2010['per_capita_plastic_waste'])\n",
    "plt.xlabel('Independent Variable GDP')\n",
    "plt.ylabel('Dependent Variable waste per capita')\n",
    "plt.title('Scatter Plot')\n",
    "plt.show()"
   ]
  },
  {
   "cell_type": "code",
   "execution_count": null,
   "id": "04838713-4f26-44d5-9c5b-b8b393eb9f12",
   "metadata": {},
   "outputs": [],
   "source": [
    "plt.boxplot(gdp_df_2010['per_capita_plastic_waste'])\n",
    "plt.title('Box Plot of per capita plastic waste')\n",
    "plt.show()"
   ]
  },
  {
   "cell_type": "code",
   "execution_count": null,
   "id": "259a2633-a465-41ec-97f5-3c91413bfec9",
   "metadata": {},
   "outputs": [],
   "source": [
    "#If skewness is less than -1 or greater than 1, the distribution is highly skewed and needs transforming.\n",
    "gdp_df_2010[['gdp_per_capita', 'per_capita_plastic_waste']].skew()"
   ]
  },
  {
   "cell_type": "code",
   "execution_count": null,
   "id": "dce4d008-04dd-4620-904f-342174597dab",
   "metadata": {},
   "outputs": [],
   "source": [
    "from sklearn.preprocessing import PowerTransformer\n",
    "\n",
    "gdp_df2 = gdp_df_2010[['gdp_per_capita', 'per_capita_plastic_waste']]\n",
    "\n",
    "transformer2 = PowerTransformer(method='yeo-johnson')\n",
    "\n",
    "transformed2 = transformer.fit_transform(gdp_df2)\n",
    "df_transformed2 = pd.DataFrame(transformed2, columns=gdp_df2.columns)\n",
    "\n",
    "path = \"./transformers/\"\n",
    "file_name = \"transf_gdp_per_capita_waste.pkl\"\n",
    "\n",
    "with open(path + file_name, \"wb\") as file:\n",
    "    pickle.dump(transformer2, file)"
   ]
  },
  {
   "cell_type": "code",
   "execution_count": null,
   "id": "11dbbc39-402a-4149-9868-13feda9a684a",
   "metadata": {},
   "outputs": [],
   "source": [
    "plt.boxplot(df_transformed2['per_capita_plastic_waste'])\n",
    "plt.title('Box Plot of per capita plastic waste')\n",
    "plt.show()"
   ]
  },
  {
   "cell_type": "code",
   "execution_count": null,
   "id": "47d1a53c-e7ce-403f-84fe-54d4bcb8ccf2",
   "metadata": {},
   "outputs": [],
   "source": [
    "X = df_transformed2[['gdp_per_capita']]\n",
    "y = df_transformed2['per_capita_plastic_waste']\n",
    "\n",
    "# Split the data into training and testing sets\n",
    "X_train, X_test, y_train, y_test = train_test_split(X, y, test_size=0.2, random_state=42)\n",
    "\n",
    "# Create a linear regression model\n",
    "model2 = LinearRegression()\n",
    "\n",
    "# Fit the model to the training data\n",
    "model2.fit(X_train, y_train)\n",
    "\n",
    "# Print the coefficient for gdp_per_capita\n",
    "print(f'Coefficient for gdp_per_capita: {model2.coef_[0]}')\n",
    "\n",
    "# Statistical Test\n",
    "from scipy.stats import linregress\n",
    "slope, intercept, r_value, p_value, std_err = linregress(X_train['gdp_per_capita'], y_train)\n",
    "print(f'P-value: {p_value}')\n",
    "\n",
    "path = \"./models/\"\n",
    "file_name = \"lr_gdp_per_capita_waste.pkl\"\n",
    "\n",
    "with open(path + file_name, \"wb\") as file:\n",
    "    pickle.dump(model2, file)"
   ]
  },
  {
   "cell_type": "code",
   "execution_count": null,
   "id": "5daef338-3464-4eb2-85fa-070af9d3900a",
   "metadata": {},
   "outputs": [],
   "source": [
    "print(p_value<model2.coef_[0])\n",
    "\n",
    "# Testing if the H0 needs to be rejected and determine if the overall model is statistically significant\n",
    "if p_value<0.05:\n",
    "    print(\"Reject H0\")\n",
    "else: print(\"Don't reject H0\")"
   ]
  },
  {
   "cell_type": "markdown",
   "id": "c20628aa-6563-445e-8512-8259b94b3c1d",
   "metadata": {},
   "source": [
    "The coefficient for gdp_per_capita of approximately 0.612 indicates that, in the context of the analysis and after transformations, for every one-unit increase in the transformed GDP per capita, the transformed plastic waste per capita increases by approximately 0.612 units, assuming other variables remain constant.\n",
    "\n",
    "With a p-value of 3.53e-13, which is significantly lower than the significance level of 0.05, there is a strong evidence to reject the null hypothesis, implying that this acknowledges that plastic waste per capita is indeed related to or dependent on GDP per capita, as suggested by the statistical analysis.\n",
    "\n",
    "The statistically significant relationship found between GDP per capita and plastic waste per capita suggests that there is an association between these variables, supporting the alternative hypothesis (H1) that there is some relationship or dependence between the two."
   ]
  },
  {
   "cell_type": "code",
   "execution_count": null,
   "id": "574fff54-45a2-4237-852e-a34197e7723f",
   "metadata": {},
   "outputs": [],
   "source": []
  }
 ],
 "metadata": {
  "kernelspec": {
   "display_name": "new_env",
   "language": "python",
   "name": "new_env"
  },
  "language_info": {
   "codemirror_mode": {
    "name": "ipython",
    "version": 3
   },
   "file_extension": ".py",
   "mimetype": "text/x-python",
   "name": "python",
   "nbconvert_exporter": "python",
   "pygments_lexer": "ipython3",
   "version": "3.11.5"
  }
 },
 "nbformat": 4,
 "nbformat_minor": 5
}
